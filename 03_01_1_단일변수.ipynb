{
  "nbformat": 4,
  "nbformat_minor": 0,
  "metadata": {
    "colab": {
      "name": "03_01_1_단일변수.ipynb의 사본",
      "version": "0.3.2",
      "provenance": [],
      "collapsed_sections": [],
      "include_colab_link": true
    },
    "kernelspec": {
      "name": "python3",
      "display_name": "Python 3"
    }
  },
  "cells": [
    {
      "cell_type": "markdown",
      "metadata": {
        "id": "view-in-github",
        "colab_type": "text"
      },
      "source": [
        "<a href=\"https://colab.research.google.com/github/jkisung/chatbot_work/blob/master/03_01_1_%EB%8B%A8%EC%9D%BC%EB%B3%80%EC%88%98.ipynb\" target=\"_parent\"><img src=\"https://colab.research.google.com/assets/colab-badge.svg\" alt=\"Open In Colab\"/></a>"
      ]
    },
    {
      "cell_type": "markdown",
      "metadata": {
        "id": "DMw6zPgSEWlw",
        "colab_type": "text"
      },
      "source": [
        "# 변수\n",
        "<pre>\n",
        "* 변수란?\n",
        "  값을 담는 그릇\n",
        "  값의 저장 공간\n",
        "  \n",
        "* 사용이유:\n",
        "  값은 사용하고 나면 휘발되기 때문.\n"
      ]
    },
    {
      "cell_type": "markdown",
      "metadata": {
        "id": "5jCK6lqwE3Zh",
        "colab_type": "text"
      },
      "source": [
        "# 단일 변수\n",
        "하나의 값을 담고 있는 변수.\n",
        "\n"
      ]
    },
    {
      "cell_type": "markdown",
      "metadata": {
        "id": "U22wl-PLFBBc",
        "colab_type": "text"
      },
      "source": [
        "## 1.단일 변수 형식\n",
        "<pre>\n",
        "* 변수 이름 = 하나의 값\n",
        "\n",
        "* 변수 이름으로 안되는 것들 : \n",
        "\n",
        "  - if, def, class, while, for, else 등의 예약어.\n",
        "\n",
        "  - 숫자로 시작하는 것\n",
        "  ex) 1a, 3name, ..."
      ]
    },
    {
      "cell_type": "code",
      "metadata": {
        "id": "oCWtv9tcv16Z",
        "colab_type": "code",
        "colab": {}
      },
      "source": [
        ""
      ],
      "execution_count": 0,
      "outputs": []
    },
    {
      "cell_type": "markdown",
      "metadata": {
        "id": "g04V-KRJfoCP",
        "colab_type": "text"
      },
      "source": [
        "## 2.값으로 올 수 있는 것들\n",
        "<pre>\n",
        "1.숫자\n",
        "2.문자열\n",
        "3.논리값"
      ]
    },
    {
      "cell_type": "markdown",
      "metadata": {
        "id": "yqvh9Mqs0u6q",
        "colab_type": "text"
      },
      "source": [
        "### 2-1. 숫자\n",
        "ex) 1, 100, -20, 2.2\n",
        "\n",
        "종류 : 정수, 실수\n",
        "\n",
        "특징 : 사칙연산 가능"
      ]
    },
    {
      "cell_type": "markdown",
      "metadata": {
        "id": "5UFWOCvfHbR9",
        "colab_type": "text"
      },
      "source": [
        "#### 2-1-1.종류"
      ]
    },
    {
      "cell_type": "markdown",
      "metadata": {
        "id": "pkyf4xCsgjvY",
        "colab_type": "text"
      },
      "source": [
        "##### 정수(Integer)\n",
        "양의 정수, 0, 음의 정수"
      ]
    },
    {
      "cell_type": "code",
      "metadata": {
        "id": "byH11IhpgYE9",
        "colab_type": "code",
        "colab": {}
      },
      "source": [
        ""
      ],
      "execution_count": 0,
      "outputs": []
    },
    {
      "cell_type": "markdown",
      "metadata": {
        "id": "2P_an9k8g5Ea",
        "colab_type": "text"
      },
      "source": [
        "##### 실수(Floating-Point)\n",
        "소수점이 포함된 값"
      ]
    },
    {
      "cell_type": "code",
      "metadata": {
        "id": "azVylXnOhINF",
        "colab_type": "code",
        "colab": {}
      },
      "source": [
        ""
      ],
      "execution_count": 0,
      "outputs": []
    },
    {
      "cell_type": "markdown",
      "metadata": {
        "id": "QFVhrF12HnVK",
        "colab_type": "text"
      },
      "source": [
        "#### 2-1-2.사칙연산"
      ]
    },
    {
      "cell_type": "code",
      "metadata": {
        "id": "YOhNTUReh9_u",
        "colab_type": "code",
        "colab": {}
      },
      "source": [
        "a=5\n",
        "b=2"
      ],
      "execution_count": 0,
      "outputs": []
    },
    {
      "cell_type": "markdown",
      "metadata": {
        "id": "sH1CVFF1h2LY",
        "colab_type": "text"
      },
      "source": [
        "##### 덧셈\n",
        " '+' 연산자"
      ]
    },
    {
      "cell_type": "code",
      "metadata": {
        "id": "dqqMnuaWIylc",
        "colab_type": "code",
        "colab": {}
      },
      "source": [
        ""
      ],
      "execution_count": 0,
      "outputs": []
    },
    {
      "cell_type": "markdown",
      "metadata": {
        "id": "LDOKSE7siIil",
        "colab_type": "text"
      },
      "source": [
        "##### 뺄셈\n",
        "'-' 연산자"
      ]
    },
    {
      "cell_type": "code",
      "metadata": {
        "id": "ZH2eMpL9iQBi",
        "colab_type": "code",
        "colab": {}
      },
      "source": [
        ""
      ],
      "execution_count": 0,
      "outputs": []
    },
    {
      "cell_type": "markdown",
      "metadata": {
        "id": "6TwAHGE4iUTc",
        "colab_type": "text"
      },
      "source": [
        "##### 곱셈\n",
        "'*' 연산자"
      ]
    },
    {
      "cell_type": "code",
      "metadata": {
        "id": "YH4ovh6QiaXT",
        "colab_type": "code",
        "colab": {}
      },
      "source": [
        ""
      ],
      "execution_count": 0,
      "outputs": []
    },
    {
      "cell_type": "markdown",
      "metadata": {
        "id": "eQs-s5G9iin9",
        "colab_type": "text"
      },
      "source": [
        "##### 나눗셈\n",
        "'/' 연산자"
      ]
    },
    {
      "cell_type": "code",
      "metadata": {
        "id": "n2JegNmyiqbD",
        "colab_type": "code",
        "colab": {}
      },
      "source": [
        ""
      ],
      "execution_count": 0,
      "outputs": []
    },
    {
      "cell_type": "markdown",
      "metadata": {
        "id": "7nMVDqIJirje",
        "colab_type": "text"
      },
      "source": [
        "##### 나눗셈의 몫\n",
        "'//' 연산자"
      ]
    },
    {
      "cell_type": "code",
      "metadata": {
        "id": "P_7-rYgRi0lJ",
        "colab_type": "code",
        "colab": {}
      },
      "source": [
        ""
      ],
      "execution_count": 0,
      "outputs": []
    },
    {
      "cell_type": "markdown",
      "metadata": {
        "id": "R6TxgY7_i2A2",
        "colab_type": "text"
      },
      "source": [
        "##### 나눗셈의 나머지\n",
        "'%' 연산자"
      ]
    },
    {
      "cell_type": "code",
      "metadata": {
        "id": "y0WYzKUUjEPT",
        "colab_type": "code",
        "colab": {}
      },
      "source": [
        ""
      ],
      "execution_count": 0,
      "outputs": []
    },
    {
      "cell_type": "markdown",
      "metadata": {
        "id": "d4bxaGUMjGR4",
        "colab_type": "text"
      },
      "source": [
        "##### 제곱"
      ]
    },
    {
      "cell_type": "code",
      "metadata": {
        "id": "fnM3sjEfjOCy",
        "colab_type": "code",
        "colab": {}
      },
      "source": [
        ""
      ],
      "execution_count": 0,
      "outputs": []
    },
    {
      "cell_type": "markdown",
      "metadata": {
        "id": "yDAX00oCkaeK",
        "colab_type": "text"
      },
      "source": [
        "### 2-2.문자열\n",
        "ex) '철수', 'My name is John', '123'"
      ]
    },
    {
      "cell_type": "code",
      "metadata": {
        "id": "ADnIaevRn97Q",
        "colab_type": "code",
        "outputId": "cd25dfde-69c8-4b66-cd1e-faf4e86cce77",
        "colab": {
          "base_uri": "https://localhost:8080/",
          "height": 172
        }
      },
      "source": [
        ""
      ],
      "execution_count": 0,
      "outputs": [
        {
          "output_type": "error",
          "ename": "NameError",
          "evalue": "ignored",
          "traceback": [
            "\u001b[0;31m---------------------------------------------------------------------------\u001b[0m",
            "\u001b[0;31mNameError\u001b[0m                                 Traceback (most recent call last)",
            "\u001b[0;32m<ipython-input-32-456513c03b8a>\u001b[0m in \u001b[0;36m<module>\u001b[0;34m()\u001b[0m\n\u001b[0;32m----> 1\u001b[0;31m \u001b[0mprint\u001b[0m\u001b[0;34m(\u001b[0m\u001b[0m철수\u001b[0m\u001b[0;34m)\u001b[0m\u001b[0;34m\u001b[0m\u001b[0;34m\u001b[0m\u001b[0m\n\u001b[0m",
            "\u001b[0;31mNameError\u001b[0m: name '철수' is not defined"
          ]
        }
      ]
    },
    {
      "cell_type": "code",
      "metadata": {
        "id": "Y-JaDoxtoDEw",
        "colab_type": "code",
        "colab": {}
      },
      "source": [
        ""
      ],
      "execution_count": 0,
      "outputs": []
    },
    {
      "cell_type": "markdown",
      "metadata": {
        "id": "Bh33IBQPm2hz",
        "colab_type": "text"
      },
      "source": [
        "#### 2-2-1.문자열 만드는 방법 4가지"
      ]
    },
    {
      "cell_type": "markdown",
      "metadata": {
        "id": "IaaSKojMn0Ze",
        "colab_type": "text"
      },
      "source": [
        "##### 큰 따옴표로 감싸기\n"
      ]
    },
    {
      "cell_type": "code",
      "metadata": {
        "id": "xJu9JIqtnr5x",
        "colab_type": "code",
        "colab": {}
      },
      "source": [
        "a = 철수"
      ],
      "execution_count": 0,
      "outputs": []
    },
    {
      "cell_type": "markdown",
      "metadata": {
        "id": "Edmyfayen7RM",
        "colab_type": "text"
      },
      "source": [
        "##### 작은 따옴표로 감싸기"
      ]
    },
    {
      "cell_type": "code",
      "metadata": {
        "id": "YRjZMA1BoLvj",
        "colab_type": "code",
        "colab": {}
      },
      "source": [
        "b= My father is a texi driver."
      ],
      "execution_count": 0,
      "outputs": []
    },
    {
      "cell_type": "markdown",
      "metadata": {
        "id": "tI7e68vTp6zy",
        "colab_type": "text"
      },
      "source": [
        "##### 큰 따옴표 3개를 연속으로 감싸기"
      ]
    },
    {
      "cell_type": "code",
      "metadata": {
        "id": "EMNX6UspqIIP",
        "colab_type": "code",
        "colab": {}
      },
      "source": [
        "lines = 동해물과\n",
        "백두산이\n",
        "마르고 닳도록"
      ],
      "execution_count": 0,
      "outputs": []
    },
    {
      "cell_type": "code",
      "metadata": {
        "id": "jm2cfbcsKNce",
        "colab_type": "code",
        "colab": {}
      },
      "source": [
        ""
      ],
      "execution_count": 0,
      "outputs": []
    },
    {
      "cell_type": "markdown",
      "metadata": {
        "id": "9sQBa1wdqa3P",
        "colab_type": "text"
      },
      "source": [
        "##### 작은 따옴표 3개를 연속으로 감싸기"
      ]
    },
    {
      "cell_type": "code",
      "metadata": {
        "id": "co__-J1sqjVg",
        "colab_type": "code",
        "colab": {}
      },
      "source": [
        "lines2 = \n",
        "치얼업 베이베 치얼업 베이베 좀더 힘을 내\n"
      ],
      "execution_count": 0,
      "outputs": []
    },
    {
      "cell_type": "code",
      "metadata": {
        "id": "aUPGpe_nKRZL",
        "colab_type": "code",
        "colab": {}
      },
      "source": [
        ""
      ],
      "execution_count": 0,
      "outputs": []
    },
    {
      "cell_type": "markdown",
      "metadata": {
        "id": "DLrA9ipXq0-O",
        "colab_type": "text"
      },
      "source": [
        "##### 인용문 쓰기"
      ]
    },
    {
      "cell_type": "code",
      "metadata": {
        "id": "7D4YSpeSrAT4",
        "colab_type": "code",
        "colab": {}
      },
      "source": [
        "lines3 = 나는 생각했다. '그의 어머니는 교사일거야.'"
      ],
      "execution_count": 0,
      "outputs": []
    },
    {
      "cell_type": "code",
      "metadata": {
        "id": "Cy9JhlQgrU0Q",
        "colab_type": "code",
        "colab": {}
      },
      "source": [
        ""
      ],
      "execution_count": 0,
      "outputs": []
    },
    {
      "cell_type": "markdown",
      "metadata": {
        "id": "ENtWdOrGreyF",
        "colab_type": "text"
      },
      "source": [
        "##### 대화문을 넣기"
      ]
    },
    {
      "cell_type": "code",
      "metadata": {
        "id": "TCKR6-gXri4C",
        "colab_type": "code",
        "colab": {}
      },
      "source": [
        "lines4 = 그들은 말했다. \"BTS는 사랑입니다.\""
      ],
      "execution_count": 0,
      "outputs": []
    },
    {
      "cell_type": "code",
      "metadata": {
        "id": "Z_sv_YhCryFU",
        "colab_type": "code",
        "colab": {}
      },
      "source": [
        ""
      ],
      "execution_count": 0,
      "outputs": []
    },
    {
      "cell_type": "markdown",
      "metadata": {
        "id": "Z4AjVvoBr-PB",
        "colab_type": "text"
      },
      "source": [
        "##### 참고사항\n",
        "주석 처리 방법\n",
        "\n",
        "1. 코드 앞에 # 사용\n",
        "\n",
        "2. '''으로 감싸기\n",
        "\n",
        "3. \"\"\"으로 감싸기"
      ]
    },
    {
      "cell_type": "code",
      "metadata": {
        "id": "TSVABRCpK2g-",
        "colab_type": "code",
        "colab": {}
      },
      "source": [
        "a=1\n",
        "print(a)"
      ],
      "execution_count": 0,
      "outputs": []
    },
    {
      "cell_type": "code",
      "metadata": {
        "id": "NoWNMWARsSTu",
        "colab_type": "code",
        "colab": {}
      },
      "source": [
        "\n",
        "a=1\n",
        "print(a)\n",
        "\n",
        "b=2\n",
        "print(b)\n"
      ],
      "execution_count": 0,
      "outputs": []
    },
    {
      "cell_type": "code",
      "metadata": {
        "id": "lDYYAR0EsWUI",
        "colab_type": "code",
        "colab": {}
      },
      "source": [
        "\n",
        "a=1\n",
        "print(a)\n",
        "\n",
        "b=2\n",
        "print(b)\n"
      ],
      "execution_count": 0,
      "outputs": []
    },
    {
      "cell_type": "markdown",
      "metadata": {
        "id": "-bhoiAG9si5B",
        "colab_type": "text"
      },
      "source": [
        "#### 2-2-2.문자열 연산\n",
        "'+', '*' 가능"
      ]
    },
    {
      "cell_type": "markdown",
      "metadata": {
        "id": "V1hLRkuctmSU",
        "colab_type": "text"
      },
      "source": [
        "##### 문자열 더하기"
      ]
    },
    {
      "cell_type": "code",
      "metadata": {
        "id": "rqsOijAAuFX5",
        "colab_type": "code",
        "colab": {}
      },
      "source": [
        "a = 'This song'\n",
        "b = ' saved my life.'"
      ],
      "execution_count": 0,
      "outputs": []
    },
    {
      "cell_type": "code",
      "metadata": {
        "id": "dr5WqYYsPCUd",
        "colab_type": "code",
        "colab": {}
      },
      "source": [
        ""
      ],
      "execution_count": 0,
      "outputs": []
    },
    {
      "cell_type": "code",
      "metadata": {
        "id": "QqYiZVelt3H2",
        "colab_type": "code",
        "colab": {}
      },
      "source": [
        "a = '2019'\n",
        "b = '1225'"
      ],
      "execution_count": 0,
      "outputs": []
    },
    {
      "cell_type": "code",
      "metadata": {
        "id": "51HjjzIyPGOd",
        "colab_type": "code",
        "colab": {}
      },
      "source": [
        ""
      ],
      "execution_count": 0,
      "outputs": []
    },
    {
      "cell_type": "markdown",
      "metadata": {
        "id": "npmOt-OLuVWE",
        "colab_type": "text"
      },
      "source": [
        "##### 문자열 곱하기"
      ]
    },
    {
      "cell_type": "code",
      "metadata": {
        "id": "Plm9IZ9_PoTa",
        "colab_type": "code",
        "colab": {}
      },
      "source": [
        "a='아버지가방에들어가신다'"
      ],
      "execution_count": 0,
      "outputs": []
    },
    {
      "cell_type": "code",
      "metadata": {
        "id": "vqpY0pBTuYZ4",
        "colab_type": "code",
        "colab": {}
      },
      "source": [
        ""
      ],
      "execution_count": 0,
      "outputs": []
    },
    {
      "cell_type": "markdown",
      "metadata": {
        "id": "gaL8m5uau1vM",
        "colab_type": "text"
      },
      "source": [
        "##### 응용"
      ]
    },
    {
      "cell_type": "code",
      "metadata": {
        "id": "ZiWa6RU0u_-h",
        "colab_type": "code",
        "colab": {}
      },
      "source": [
        ""
      ],
      "execution_count": 0,
      "outputs": []
    },
    {
      "cell_type": "markdown",
      "metadata": {
        "id": "Y6_uK78UvMfO",
        "colab_type": "text"
      },
      "source": [
        "#### 2-2-3.문자열 길이 구하기\n",
        "len() 함수"
      ]
    },
    {
      "cell_type": "code",
      "metadata": {
        "id": "hfmjo5DgvWLZ",
        "colab_type": "code",
        "colab": {}
      },
      "source": [
        "a = '대한민국 사람은 밥심으로 삽니다.'\n",
        "print(len(a))"
      ],
      "execution_count": 0,
      "outputs": []
    },
    {
      "cell_type": "markdown",
      "metadata": {
        "id": "c4lQHgrivoF-",
        "colab_type": "text"
      },
      "source": [
        "#### 2-2-4.문자열 인덱스\n",
        "인덱스 : 순번\n",
        "\n",
        "파이썬에서의 인덱스(순번) : 0번부터 시작\n",
        "\n",
        "마지막 인덱스(순번) : -1번과도 같음\n",
        "\n",
        "* 형식 :\n",
        "\n",
        "  변수명[인덱스]"
      ]
    },
    {
      "cell_type": "code",
      "metadata": {
        "id": "NMD_7WHvxlzw",
        "colab_type": "code",
        "colab": {}
      },
      "source": [
        "a = '동해물과 백두산이'"
      ],
      "execution_count": 0,
      "outputs": []
    },
    {
      "cell_type": "code",
      "metadata": {
        "id": "tTeKO5UYxsww",
        "colab_type": "code",
        "colab": {}
      },
      "source": [
        ""
      ],
      "execution_count": 0,
      "outputs": []
    },
    {
      "cell_type": "code",
      "metadata": {
        "id": "HrER-ONzMhzu",
        "colab_type": "code",
        "colab": {}
      },
      "source": [
        ""
      ],
      "execution_count": 0,
      "outputs": []
    },
    {
      "cell_type": "code",
      "metadata": {
        "id": "HDW_oLxtMhwi",
        "colab_type": "code",
        "colab": {}
      },
      "source": [
        ""
      ],
      "execution_count": 0,
      "outputs": []
    },
    {
      "cell_type": "code",
      "metadata": {
        "id": "3vgnjvLdMhtI",
        "colab_type": "code",
        "colab": {}
      },
      "source": [
        ""
      ],
      "execution_count": 0,
      "outputs": []
    },
    {
      "cell_type": "code",
      "metadata": {
        "id": "v_dfORRqMhpJ",
        "colab_type": "code",
        "colab": {}
      },
      "source": [
        ""
      ],
      "execution_count": 0,
      "outputs": []
    },
    {
      "cell_type": "code",
      "metadata": {
        "id": "bcSJ88KKMhfL",
        "colab_type": "code",
        "colab": {}
      },
      "source": [
        ""
      ],
      "execution_count": 0,
      "outputs": []
    },
    {
      "cell_type": "code",
      "metadata": {
        "id": "CzT1FS-Ny2Pj",
        "colab_type": "code",
        "colab": {}
      },
      "source": [
        "# '동해물과'\n",
        "a = '동해물과 백두산이'"
      ],
      "execution_count": 0,
      "outputs": []
    },
    {
      "cell_type": "code",
      "metadata": {
        "id": "EWsLeOFSOqrt",
        "colab_type": "code",
        "colab": {}
      },
      "source": [
        ""
      ],
      "execution_count": 0,
      "outputs": []
    },
    {
      "cell_type": "markdown",
      "metadata": {
        "id": "f3joqDYoyhRq",
        "colab_type": "text"
      },
      "source": [
        "#### 2-2-5.문자열 슬라이스\n",
        "<pre>\n",
        "슬라이스 : 자르기\n",
        "\n",
        "규칙 : 변수명[시작순번:원하는 순번+1]"
      ]
    },
    {
      "cell_type": "code",
      "metadata": {
        "id": "2cF0FQlAzYpf",
        "colab_type": "code",
        "colab": {}
      },
      "source": [
        "\n"
      ],
      "execution_count": 0,
      "outputs": []
    },
    {
      "cell_type": "code",
      "metadata": {
        "id": "A-UrTO13zb-z",
        "colab_type": "code",
        "colab": {}
      },
      "source": [
        "# 다른 방법(0부터 할 경우 0 생략 가능)\n"
      ],
      "execution_count": 0,
      "outputs": []
    },
    {
      "cell_type": "code",
      "metadata": {
        "id": "tO-XCvKcPOoD",
        "colab_type": "code",
        "colab": {}
      },
      "source": [
        "# '백두산이'\n"
      ],
      "execution_count": 0,
      "outputs": []
    },
    {
      "cell_type": "code",
      "metadata": {
        "id": "7z5LzV1SPl8x",
        "colab_type": "code",
        "colab": {}
      },
      "source": [
        "# 다른 방법(끝까지 할 경우 끝 생략)\n"
      ],
      "execution_count": 0,
      "outputs": []
    },
    {
      "cell_type": "markdown",
      "metadata": {
        "id": "_kgm09UH0k-B",
        "colab_type": "text"
      },
      "source": [
        "#### 2-2-6.문자열 format() 함수\n",
        "\n",
        "* format() 함수 사용 효과 : \n",
        "\n",
        "  변수를 넣은 문자열을 만들 수 있음."
      ]
    },
    {
      "cell_type": "code",
      "metadata": {
        "id": "o_wvobu62Vs-",
        "colab_type": "code",
        "colab": {}
      },
      "source": [
        "\n"
      ],
      "execution_count": 0,
      "outputs": []
    },
    {
      "cell_type": "code",
      "metadata": {
        "id": "7dP-2EfE2n4x",
        "colab_type": "code",
        "colab": {}
      },
      "source": [
        "\n"
      ],
      "execution_count": 0,
      "outputs": []
    },
    {
      "cell_type": "markdown",
      "metadata": {
        "id": "ze_uY4Le2z4D",
        "colab_type": "text"
      },
      "source": [
        "##### 변수 여러개를 사용\n"
      ]
    },
    {
      "cell_type": "code",
      "metadata": {
        "id": "2CBCcNb4RreY",
        "colab_type": "code",
        "colab": {}
      },
      "source": [
        ""
      ],
      "execution_count": 0,
      "outputs": []
    },
    {
      "cell_type": "markdown",
      "metadata": {
        "id": "mdJ1KH_U4XwE",
        "colab_type": "text"
      },
      "source": [
        "##### Q. a=1, b=3, c=a+b를 만들고 \n",
        "##### 'a + b = 4 이다' 를 출력하세요."
      ]
    },
    {
      "cell_type": "code",
      "metadata": {
        "id": "EEFXsDDD3JgF",
        "colab_type": "code",
        "colab": {}
      },
      "source": [
        ""
      ],
      "execution_count": 0,
      "outputs": []
    },
    {
      "cell_type": "markdown",
      "metadata": {
        "id": "W63nXH9F3yqu",
        "colab_type": "text"
      },
      "source": [
        "#### 2-2-7.문자열 관련 함수들"
      ]
    },
    {
      "cell_type": "markdown",
      "metadata": {
        "id": "XzMGyp334J5I",
        "colab_type": "text"
      },
      "source": [
        "##### 문자 개수 세기(count() 함수)\n",
        "* 사용법:\n",
        "\n",
        "  변수명.count(세고자 하는 값)"
      ]
    },
    {
      "cell_type": "code",
      "metadata": {
        "id": "_VV7WAZK5CNO",
        "colab_type": "code",
        "colab": {}
      },
      "source": [
        "a=''' 올해 양파 농사가 풍년이었습니다.\n",
        "양파값이 많이 떨어졌습니다.\n",
        "양파를 많이 사먹으면\n",
        "양파 농가에 조금이나마 도움이 됩니다.\n",
        "'''\n"
      ],
      "execution_count": 0,
      "outputs": []
    },
    {
      "cell_type": "markdown",
      "metadata": {
        "id": "wK_WSLk45UbT",
        "colab_type": "text"
      },
      "source": [
        "##### 문자열 바꾸기(replace() 함수)\n",
        "* 사용법 :\n",
        "\n",
        "  변수명.replace(바꾸려는 값, 대체할 값)"
      ]
    },
    {
      "cell_type": "code",
      "metadata": {
        "id": "9kqG5red5dgf",
        "colab_type": "code",
        "colab": {}
      },
      "source": [
        "a = '우리 개 이름은 뭉치야.'\n"
      ],
      "execution_count": 0,
      "outputs": []
    },
    {
      "cell_type": "markdown",
      "metadata": {
        "id": "2XC57cNn6uKN",
        "colab_type": "text"
      },
      "source": [
        "##### 문자열 나누기(split() 함수)\n",
        "* 사용법:\n",
        "\n",
        "  변수명.split()\n",
        "  \n",
        "  (괄호 안에는 ' '이 생략되어 있음. 콤마 구분이면 ','를 넣어줄것.)"
      ]
    },
    {
      "cell_type": "code",
      "metadata": {
        "id": "qk60iM5z6Xbq",
        "colab_type": "code",
        "colab": {}
      },
      "source": [
        "a = 'My heart will go on'\n"
      ],
      "execution_count": 0,
      "outputs": []
    },
    {
      "cell_type": "code",
      "metadata": {
        "id": "E5HHPDKu6qFY",
        "colab_type": "code",
        "colab": {}
      },
      "source": [
        "# Q.콤마로 되어있는걸 나눈다면?\n",
        "a = '철수, 영희, 만수'\n"
      ],
      "execution_count": 0,
      "outputs": []
    },
    {
      "cell_type": "markdown",
      "metadata": {
        "id": "J_CMC7-IURZB",
        "colab_type": "text"
      },
      "source": [
        "### 2-3.bool 값\n",
        "* 참, 거짓을 의미하는 값\n",
        "\n",
        "* 종류 : True / False\n",
        "\n",
        "* 자세한 것은 사용 상황에서 설명."
      ]
    },
    {
      "cell_type": "code",
      "metadata": {
        "id": "RvJWxyPbU-Gg",
        "colab_type": "code",
        "colab": {}
      },
      "source": [
        ""
      ],
      "execution_count": 0,
      "outputs": []
    }
  ]
}