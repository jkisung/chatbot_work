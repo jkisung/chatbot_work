{
  "nbformat": 4,
  "nbformat_minor": 0,
  "metadata": {
    "colab": {
      "name": "진기성.ipynb",
      "version": "0.3.2",
      "provenance": [],
      "private_outputs": true,
      "collapsed_sections": [],
      "include_colab_link": true
    },
    "kernelspec": {
      "name": "python3",
      "display_name": "Python 3"
    }
  },
  "cells": [
    {
      "cell_type": "markdown",
      "metadata": {
        "id": "view-in-github",
        "colab_type": "text"
      },
      "source": [
        "<a href=\"https://colab.research.google.com/github/jkisung/python/blob/jkisung_python_01/%EC%A7%84%EA%B8%B0%EC%84%B1.ipynb\" target=\"_parent\"><img src=\"https://colab.research.google.com/assets/colab-badge.svg\" alt=\"Open In Colab\"/></a>"
      ]
    },
    {
      "cell_type": "markdown",
      "metadata": {
        "id": "63vDAG95Pf_4",
        "colab_type": "text"
      },
      "source": [
        "# 리스트"
      ]
    },
    {
      "cell_type": "markdown",
      "metadata": {
        "id": "GViC-tW-V_5i",
        "colab_type": "text"
      },
      "source": [
        ""
      ]
    },
    {
      "cell_type": "markdown",
      "metadata": {
        "id": "jAHH13hCPtWH",
        "colab_type": "text"
      },
      "source": [
        "## 리스트 \n",
        "리스트는 여러 값을 담을 수 있는 변수\n",
        "\n",
        "\n",
        "\n"
      ]
    },
    {
      "cell_type": "markdown",
      "metadata": {
        "id": "jG00TiqdP8bV",
        "colab_type": "text"
      },
      "source": [
        "### 1. 리스트 만들기\n",
        "\n",
        "#### 방법 1\n",
        "\n",
        "\n",
        "\n",
        "\n",
        "\n",
        "\n",
        "\n"
      ]
    },
    {
      "cell_type": "code",
      "metadata": {
        "id": "Q1PqzNGJQW-k",
        "colab_type": "code",
        "colab": {}
      },
      "source": [
        "## list1 이란 빈 리스트를 만들기\n",
        "\n",
        "list1= []"
      ],
      "execution_count": 0,
      "outputs": []
    },
    {
      "cell_type": "code",
      "metadata": {
        "id": "lQ1TDqEqQ0jD",
        "colab_type": "code",
        "colab": {}
      },
      "source": [
        "print(list1)"
      ],
      "execution_count": 0,
      "outputs": []
    },
    {
      "cell_type": "code",
      "metadata": {
        "id": "IN3fxoczQ-Q-",
        "colab_type": "code",
        "colab": {}
      },
      "source": [
        "# list2 만들기 (1, 철수, True를 넣어서)\n",
        "list2= [1,'철수',True]"
      ],
      "execution_count": 0,
      "outputs": []
    },
    {
      "cell_type": "code",
      "metadata": {
        "id": "rzI4qeGzRQTV",
        "colab_type": "code",
        "colab": {}
      },
      "source": [
        "print(list2)"
      ],
      "execution_count": 0,
      "outputs": []
    },
    {
      "cell_type": "markdown",
      "metadata": {
        "id": "hTL2DsqmRSI6",
        "colab_type": "text"
      },
      "source": [
        "#### 방법 2"
      ]
    },
    {
      "cell_type": "code",
      "metadata": {
        "id": "mEAsnS9KR2My",
        "colab_type": "code",
        "colab": {}
      },
      "source": [
        "list3= list()"
      ],
      "execution_count": 0,
      "outputs": []
    },
    {
      "cell_type": "code",
      "metadata": {
        "id": "Yz_GLJfjSEb8",
        "colab_type": "code",
        "colab": {}
      },
      "source": [
        "print(list3)"
      ],
      "execution_count": 0,
      "outputs": []
    },
    {
      "cell_type": "code",
      "metadata": {
        "id": "SoTvmOmTSJOE",
        "colab_type": "code",
        "colab": {}
      },
      "source": [
        "del list3"
      ],
      "execution_count": 0,
      "outputs": []
    },
    {
      "cell_type": "code",
      "metadata": {
        "id": "6b-WOTaeTKmD",
        "colab_type": "code",
        "colab": {}
      },
      "source": [
        "print(list3)"
      ],
      "execution_count": 0,
      "outputs": []
    },
    {
      "cell_type": "code",
      "metadata": {
        "id": "H0VCQ37TTM9X",
        "colab_type": "code",
        "colab": {}
      },
      "source": [
        "list3 = list()\n",
        "print(list3)"
      ],
      "execution_count": 0,
      "outputs": []
    },
    {
      "cell_type": "code",
      "metadata": {
        "id": "22rhdxEbUT9-",
        "colab_type": "code",
        "colab": {}
      },
      "source": [
        "# 1, 철수, True를 넣어서 lilst4를 만들어보기\n",
        "list4 = list([1,'철수',True])\n",
        "print(list4)"
      ],
      "execution_count": 0,
      "outputs": []
    },
    {
      "cell_type": "markdown",
      "metadata": {
        "id": "j2zV3wBFUs9B",
        "colab_type": "text"
      },
      "source": [
        "# github 사용법\n",
        "\n",
        "- 깃허브란 : 소스코드 저장 공간\n",
        "\n"
      ]
    }
  ]
}