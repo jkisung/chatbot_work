{
 "cells": [
  {
   "cell_type": "markdown",
   "metadata": {},
   "source": [
    "# 파이썬 기본문법"
   ]
  },
  {
   "cell_type": "code",
   "execution_count": 1,
   "metadata": {},
   "outputs": [],
   "source": [
    "# 키워드(예약어) 목록\n",
    "import keyword\n",
    "print(keyword.kwlist)\n",
    "print(len(keyword.kwlist)) # len() 개수를 나타내는 함수"
   ]
  },
  {
   "cell_type": "markdown",
   "metadata": {},
   "source": [
    "## 1. 기본 연산"
   ]
  },
  {
   "cell_type": "markdown",
   "metadata": {},
   "source": [
    "#### 한줄 주석 \n",
    "      -> #\n",
    "#### 여러줄 주석\n",
    "\"\"\" \n",
    "여러줄 주석\n",
    "aaa\n",
    "bbbb\n",
    "\"\"\"\n",
    "\n",
    "'''\n",
    "여러줄 주석\n",
    "'''"
   ]
  },
  {
   "cell_type": "code",
   "execution_count": 2,
   "metadata": {},
   "outputs": [
    {
     "name": "stdout",
     "output_type": "stream",
     "text": [
      "11\n",
      "파이썬\n"
     ]
    }
   ],
   "source": [
    "a=10\n",
    "a+=1\n",
    "print(a) # a++, a--는 지원되지 않음\n",
    "\n",
    "# 문자열은 작은따옴표 또는 큰따옴표로 감싼다\n",
    "a=\"파이썬\"\n",
    "print(a)"
   ]
  },
  {
   "cell_type": "code",
   "execution_count": 3,
   "metadata": {},
   "outputs": [
    {
     "name": "stdout",
     "output_type": "stream",
     "text": [
      "81\n",
      "<class 'int'>\n"
     ]
    }
   ],
   "source": [
    "# 별도의 자료형이 없음 (가변자료형)\n",
    "a= 3\n",
    "b= 4\n",
    "print(a**b)\n",
    "print(type(a**b))"
   ]
  },
  {
   "cell_type": "code",
   "execution_count": 4,
   "metadata": {},
   "outputs": [
    {
     "name": "stdout",
     "output_type": "stream",
     "text": [
      "<class 'str'>\n"
     ]
    }
   ],
   "source": [
    "a= 'class'\n",
    "print(type(a))"
   ]
  },
  {
   "cell_type": "code",
   "execution_count": 5,
   "metadata": {},
   "outputs": [
    {
     "name": "stdout",
     "output_type": "stream",
     "text": [
      "10 20\n",
      "10 10 10\n"
     ]
    }
   ],
   "source": [
    "# 여러개의 변수에 할당 가능\n",
    "a,b = 10,20\n",
    "print(a,b)\n",
    "i=j=k=10\n",
    "print(i,j,k)"
   ]
  },
  {
   "cell_type": "code",
   "execution_count": 6,
   "metadata": {},
   "outputs": [
    {
     "name": "stdout",
     "output_type": "stream",
     "text": [
      "10\n"
     ]
    },
    {
     "ename": "NameError",
     "evalue": "name 'b' is not defined",
     "output_type": "error",
     "traceback": [
      "\u001b[1;31m---------------------------------------------------------------------------\u001b[0m",
      "\u001b[1;31mNameError\u001b[0m                                 Traceback (most recent call last)",
      "\u001b[1;32m<ipython-input-6-f70e33efe162>\u001b[0m in \u001b[0;36m<module>\u001b[1;34m()\u001b[0m\n\u001b[0;32m      2\u001b[0m \u001b[0mprint\u001b[0m\u001b[1;33m(\u001b[0m\u001b[0mb\u001b[0m\u001b[1;33m)\u001b[0m\u001b[1;33m\u001b[0m\u001b[1;33m\u001b[0m\u001b[0m\n\u001b[0;32m      3\u001b[0m \u001b[1;32mdel\u001b[0m \u001b[0mb\u001b[0m\u001b[1;33m\u001b[0m\u001b[1;33m\u001b[0m\u001b[0m\n\u001b[1;32m----> 4\u001b[1;33m \u001b[0mprint\u001b[0m\u001b[1;33m(\u001b[0m\u001b[0mb\u001b[0m\u001b[1;33m)\u001b[0m  \u001b[1;31m# name 'b' is not defined\u001b[0m\u001b[1;33m\u001b[0m\u001b[1;33m\u001b[0m\u001b[0m\n\u001b[0m",
      "\u001b[1;31mNameError\u001b[0m: name 'b' is not defined"
     ]
    }
   ],
   "source": [
    "b= 10\n",
    "print(b)\n",
    "del b  \n",
    "print(b)  # name 'b' is not defined"
   ]
  },
  {
   "cell_type": "code",
   "execution_count": 7,
   "metadata": {},
   "outputs": [
    {
     "name": "stdout",
     "output_type": "stream",
     "text": [
      "1\n",
      "1.75\n",
      "1\n"
     ]
    }
   ],
   "source": [
    "# 나머지 연산자\n",
    "print(7%3)\n",
    "print(7/4)\n",
    "print(7//4)  # 나눈값의 소수점 값을 버림"
   ]
  },
  {
   "cell_type": "code",
   "execution_count": 11,
   "metadata": {},
   "outputs": [
    {
     "name": "stdout",
     "output_type": "stream",
     "text": [
      "정수1: 9\n",
      "정수2: 81\n",
      "정수3: 4.0\n"
     ]
    }
   ],
   "source": [
    "# 출력 형식\n",
    "x=9\n",
    "# 문자열.format(변수)\n",
    "# {변수의 순번}\n",
    "print(\"정수1: {0}\". format(x))\n",
    "print(\"정수2: {0}\". format(3**4))  # 거듭제곱\n",
    "print(\"정수3: {0}\". format((int(8.3)/int(2.7))))  # 강제형변환"
   ]
  },
  {
   "cell_type": "code",
   "execution_count": 12,
   "metadata": {},
   "outputs": [
    {
     "data": {
      "text/plain": [
       "8.3"
      ]
     },
     "execution_count": 12,
     "metadata": {},
     "output_type": "execute_result"
    }
   ],
   "source": [
    "a= 8.3\n",
    "a"
   ]
  },
  {
   "cell_type": "code",
   "execution_count": 13,
   "metadata": {},
   "outputs": [
    {
     "data": {
      "text/plain": [
       "8"
      ]
     },
     "execution_count": 13,
     "metadata": {},
     "output_type": "execute_result"
    }
   ],
   "source": [
    "# 정수를 나타내는 int()\n",
    "a= int(8.7)\n",
    "a"
   ]
  },
  {
   "cell_type": "code",
   "execution_count": 14,
   "metadata": {},
   "outputs": [
    {
     "name": "stdout",
     "output_type": "stream",
     "text": [
      "실수1: 3.074074074074074\n"
     ]
    }
   ],
   "source": [
    "# 소수점 이하 자리수 지정 방법\n",
    "print(\"실수1: {0}\".format(8.3/2.7))"
   ]
  },
  {
   "cell_type": "code",
   "execution_count": 16,
   "metadata": {},
   "outputs": [
    {
     "name": "stdout",
     "output_type": "stream",
     "text": [
      "실수1: 3.074\n"
     ]
    }
   ],
   "source": [
    "# 소수점 3자리까지 출력\n",
    "print(\"실수1: {0:.3f}\".format(8.3/2.7))"
   ]
  },
  {
   "cell_type": "code",
   "execution_count": 17,
   "metadata": {},
   "outputs": [
    {
     "data": {
      "text/plain": [
       "11.75"
      ]
     },
     "execution_count": 17,
     "metadata": {},
     "output_type": "execute_result"
    }
   ],
   "source": [
    "y= 2.5*4.7\n",
    "y"
   ]
  },
  {
   "cell_type": "code",
   "execution_count": 19,
   "metadata": {},
   "outputs": [
    {
     "name": "stdout",
     "output_type": "stream",
     "text": [
      "실수:11.8\n"
     ]
    }
   ],
   "source": [
    "print(\"실수:{0:.1f}\".format(y))"
   ]
  },
  {
   "cell_type": "code",
   "execution_count": 20,
   "metadata": {},
   "outputs": [
    {
     "name": "stdout",
     "output_type": "stream",
     "text": [
      "<class 'int'>\n",
      "<class 'float'>\n",
      "<class 'str'>\n",
      "<class 'bool'>\n"
     ]
    }
   ],
   "source": [
    "# type(값) 자료형\n",
    "print(type(10))\n",
    "print(type(10.5))\n",
    "print(type('hello'))\n",
    "print(type(True))"
   ]
  },
  {
   "cell_type": "code",
   "execution_count": 28,
   "metadata": {},
   "outputs": [
    {
     "name": "stdout",
     "output_type": "stream",
     "text": [
      "<class 'bool'>\n",
      "True\n",
      "False\n",
      "False\n",
      "True\n"
     ]
    }
   ],
   "source": [
    "# 논리형 변수\n",
    "hungry= True\n",
    "sleepy= False\n",
    "print(type(hungry))\n",
    "print(hungry)\n",
    "print(not hungry)  # 논리부정\n",
    "print(hungry and sleepy) # A and B 양쪽 모두 True 일때 True\n",
    "print(hungry or sleepy) # A or B 한쪽만 True 일때 True\n",
    "\n",
    "# print(hungry && sleepy) # java 문법과 다름\n",
    "# print(hungry || sleepy) # java 문법과 다름"
   ]
  },
  {
   "cell_type": "markdown",
   "metadata": {},
   "source": [
    "### 비교연산자\n",
    "x < y  \n",
    "x > y\n",
    "\n",
    "x == y : x와 y가 같다   \n",
    "x != y : x와 y가 같지 않다  \n",
    "\n",
    "x >= y    \n",
    "x <= y  \n",
    "\n",
    "x or y  \n",
    "x and y  \n",
    "not x"
   ]
  },
  {
   "cell_type": "code",
   "execution_count": 37,
   "metadata": {},
   "outputs": [
    {
     "name": "stdout",
     "output_type": "stream",
     "text": [
      "ok\n",
      "ok2\n",
      "ok\n"
     ]
    }
   ],
   "source": [
    "a=1\n",
    "b=3\n",
    "if a==1 and b==3:\n",
    "    print('ok')\n",
    "else:\n",
    "    print('ok2')\n",
    "print('ok2')\n",
    "\n",
    "# \\(역슬래시): 코딩이 길어질 경우 사용\n",
    "if a==1 and \\\n",
    "b==3:\n",
    "    print('ok')"
   ]
  },
  {
   "cell_type": "code",
   "execution_count": 40,
   "metadata": {},
   "outputs": [
    {
     "name": "stdout",
     "output_type": "stream",
     "text": [
      "hello\n",
      "Python\n",
      "\n",
      "Hello\n",
      "Python\n",
      "파이썬\n",
      "자바\n",
      "\n"
     ]
    }
   ],
   "source": [
    "# Multi Line Text (텍스트 줄바꿈)\n",
    "multiline= 'hello\\nPython'  # \\n : 줄바꿈 문자\n",
    "print(multiline)\n",
    "# ===================\n",
    "multiline= \"\"\"\n",
    "Hello\n",
    "Python\n",
    "파이썬\n",
    "자바\n",
    "\"\"\"\n",
    "print(multiline)"
   ]
  },
  {
   "cell_type": "code",
   "execution_count": 42,
   "metadata": {},
   "outputs": [
    {
     "name": "stdout",
     "output_type": "stream",
     "text": [
      "파이썬은재미있다\n",
      "파이썬은 재미있다\n"
     ]
    }
   ],
   "source": [
    "# 문자열 연결\n",
    "head= '파이썬은'\n",
    "tail= '재미있다'\n",
    "print(head+tail)\n",
    "print(head,tail)"
   ]
  },
  {
   "cell_type": "code",
   "execution_count": 47,
   "metadata": {},
   "outputs": [
    {
     "name": "stdout",
     "output_type": "stream",
     "text": [
      "<class 'str'> <class 'int'>\n",
      "이름:김철수,나이:20\n"
     ]
    }
   ],
   "source": [
    "name= '김철수'\n",
    "age= 20\n",
    "print(type(name),type(age))\n",
    "\n",
    "# 문자열+숫자 => 에러\n",
    "# str과 int 연산 불가능 (에러)\n",
    "# print('이름:'+name+'나이:'+age)  \n",
    "print('이름:' + name + ',나이:' +str(age))"
   ]
  },
  {
   "cell_type": "code",
   "execution_count": 51,
   "metadata": {},
   "outputs": [
    {
     "name": "stdout",
     "output_type": "stream",
     "text": [
      "파이썬파이썬\n",
      "파이썬파이썬파이썬\n",
      "==================================================\n",
      "My Program\n",
      "==================================================\n"
     ]
    }
   ],
   "source": [
    "# 문자열 곱하기 (문자열 반복)\n",
    "a= '파이썬'\n",
    "print(a*2)\n",
    "print(a*3)\n",
    "\n",
    "print('='*50)\n",
    "print('My Program')\n",
    "print('='*50)"
   ]
  },
  {
   "cell_type": "code",
   "execution_count": 56,
   "metadata": {},
   "outputs": [
    {
     "name": "stdout",
     "output_type": "stream",
     "text": [
      "e\n",
      "r\n",
      "Life\n",
      "is too short\n",
      "Life is\n",
      "Life is too short\n"
     ]
    }
   ],
   "source": [
    "# 인덱싱 : 문자의 위치\n",
    "# 문자열의 인덱스는 0부터 시작함\n",
    "a= 'Life is too short'\n",
    "# 앞에서 네번째 문자 출력 => 0,1,2,3 (l,i,f,e)\n",
    "print(a[3])  # e\n",
    "\n",
    "# 뒤에서 두번째\n",
    "print(a[-2])  # r\n",
    "\n",
    "# 슬라이싱: 일부분을 잘라냄\n",
    "# 0번에서 3번까지\n",
    "print(a[0:4])  # life\n",
    "\n",
    "# 5번부터 끝까지  \n",
    "print(a[5:])   # is too short\n",
    "\n",
    "# 0에서 6번까지\n",
    "print(a[:7])   # Life is\n",
    "\n",
    "# 처음부터 끝까지\n",
    "print(a[:])   # Life is too short"
   ]
  },
  {
   "cell_type": "code",
   "execution_count": 62,
   "metadata": {},
   "outputs": [
    {
     "name": "stdout",
     "output_type": "stream",
     "text": [
      "True\n",
      "False\n"
     ]
    }
   ],
   "source": [
    "# in, not in (있음/없음 => True/False)\n",
    "str= 'Hello world'\n",
    "print('world' in str)  # str 변수에 world의 내용이 있는가? (True/False)\n",
    "print('world' not in str) "
   ]
  },
  {
   "cell_type": "code",
   "execution_count": 69,
   "metadata": {},
   "outputs": [
    {
     "name": "stdout",
     "output_type": "stream",
     "text": [
      "당신의 나이는 20세 입니다.\n",
      "나는 사과를 좋아한다.\n",
      "김철수님의 나이는 20세 입니다.\n",
      "에러율: 98%\n",
      "원주율:      3.142\n"
     ]
    }
   ],
   "source": [
    "# 문자열 formatting (방식 1)\n",
    "\n",
    "age=20\n",
    "# %s : 문자열 형식으로 출력\n",
    "print('당신의 나이는 %s세 입니다.' % age)\n",
    "fruit= '사과'\n",
    "print('나는 %s를 좋아한다.'% fruit)\n",
    "name= '김철수'\n",
    "print('%s님의 나이는 %s세 입니다.'%(name,age))\n",
    "\n",
    "rate= 98\n",
    "# %d : 정수 형식으로 출력, %% => %\n",
    "print('에러율: %d%%' % rate)\n",
    "\n",
    "point=3.141592\n",
    "# %f : 실수 형식으로 출력 => %전체 자리수.소수이하 자리수f\n",
    "print('원주율: %10.3f' % point)"
   ]
  },
  {
   "cell_type": "code",
   "execution_count": 77,
   "metadata": {},
   "outputs": [
    {
     "name": "stdout",
     "output_type": "stream",
     "text": [
      "나이 : 15세\n",
      "이름:김철수\n",
      "김철수님의 나이는 15세입니다.\n",
      "김철수님의 나이는 20세입니다.\n"
     ]
    }
   ],
   "source": [
    "# 문자열 formatting (방식 2)\n",
    "\n",
    "age= 15\n",
    "# 문자열.format(출력할 변수)\n",
    "result= '나이 : {0}세'.format(age)\n",
    "print(result)\n",
    "\n",
    "# 문자열 대입\n",
    "name= '김철수'\n",
    "result= '이름:{0}'.format(name)\n",
    "print(result)\n",
    "\n",
    "# 변수가 여러 개일 경우, 0번 부터 시작\n",
    "result= '{0}님의 나이는 {1}세입니다.'.format(name,age)\n",
    "print(result)\n",
    "\n",
    "# 변수 번호 대신 이름을 직접 사용하는 방법\n",
    "result= '{name}님의 나이는 {age}세입니다.'.format(\\\n",
    "                                age=20,name='김철수')\n",
    "print(result)"
   ]
  },
  {
   "cell_type": "code",
   "execution_count": 84,
   "metadata": {},
   "outputs": [
    {
     "name": "stdout",
     "output_type": "stream",
     "text": [
      "hi        \n",
      "        hi\n",
      "    hi    \n",
      "====hi====\n",
      "----hi----\n"
     ]
    }
   ],
   "source": [
    "# 정렬 방식\n",
    "\n",
    "# 전체 자리수는 10으로 설정\n",
    "# 왼쪽 정렬\n",
    "result= '{0:<10}'.format('hi')  \n",
    "print(result)\n",
    "\n",
    "# 오른쪽 정렬\n",
    "result= '{0:>10}'.format('hi')\n",
    "print(result)\n",
    "\n",
    "# 가운데 정렬\n",
    "result= '{0:^10}'.format('hi')\n",
    "print(result)\n",
    "\n",
    "# 공백 채우기 : 공백문자 대신 =로 채움, 공백문자는 정렬 문자 앞에 넣어야 함\n",
    "result= '{0:=^10}'.format('hi')\n",
    "print(result)\n",
    "\n",
    "result= '{0:-^10}'.format('hi')\n",
    "print(result)\n"
   ]
  },
  {
   "cell_type": "code",
   "execution_count": 89,
   "metadata": {},
   "outputs": [
    {
     "name": "stdout",
     "output_type": "stream",
     "text": [
      "50\n",
      "3.1432425\n",
      "3.1432425\n",
      "3.143\n"
     ]
    }
   ],
   "source": [
    "# 소수점 표현\n",
    "\n",
    "x= 50\n",
    "y= 3.1432425\n",
    "print(x)\n",
    "print(y)\n",
    "\n",
    "result= '{0}'.format(y)\n",
    "print(result)\n",
    "# {변수인덱스 : 출력형식}\n",
    "# 소수점 이하 네자리만 표현\n",
    "# 전체 자리수.소수이하 자리수\n",
    "result= '{0:0.3f}'.format(y)\n",
    "print(result)"
   ]
  },
  {
   "cell_type": "code",
   "execution_count": 91,
   "metadata": {},
   "outputs": [
    {
     "name": "stdout",
     "output_type": "stream",
     "text": [
      "2\n",
      "5\n"
     ]
    }
   ],
   "source": [
    "# 문자 개수\n",
    "a= 'hobby'\n",
    "# 문자열.count('검색어') => 검색어의 횟수\n",
    "print(a.count('b'))  \n",
    "# len(변수): 변수의 길이(글자수)\n",
    "print(len(a))"
   ]
  },
  {
   "cell_type": "code",
   "execution_count": 93,
   "metadata": {},
   "outputs": [
    {
     "name": "stdout",
     "output_type": "stream",
     "text": [
      "7\n",
      "-1\n"
     ]
    }
   ],
   "source": [
    "a= 'Have a nice day'\n",
    "# 문자열.find('검색어') : 검색어를 찾는 위치 (인덱스값)\n",
    "print(a.find('nice'))\n",
    "# 대소문자를 구분하며 없으면 -1\n",
    "print(a.find('Nice'))"
   ]
  },
  {
   "cell_type": "code",
   "execution_count": 94,
   "metadata": {},
   "outputs": [
    {
     "name": "stdout",
     "output_type": "stream",
     "text": [
      "Life is too short\n",
      "8\n",
      "8\n"
     ]
    },
    {
     "ename": "ValueError",
     "evalue": "substring not found",
     "output_type": "error",
     "traceback": [
      "\u001b[1;31m---------------------------------------------------------------------------\u001b[0m",
      "\u001b[1;31mValueError\u001b[0m                                Traceback (most recent call last)",
      "\u001b[1;32m<ipython-input-94-074547141387>\u001b[0m in \u001b[0;36m<module>\u001b[1;34m()\u001b[0m\n\u001b[0;32m      3\u001b[0m \u001b[0mprint\u001b[0m\u001b[1;33m(\u001b[0m\u001b[0ma\u001b[0m\u001b[1;33m.\u001b[0m\u001b[0mindex\u001b[0m\u001b[1;33m(\u001b[0m\u001b[1;34m'too'\u001b[0m\u001b[1;33m)\u001b[0m\u001b[1;33m)\u001b[0m\u001b[1;33m\u001b[0m\u001b[1;33m\u001b[0m\u001b[0m\n\u001b[0;32m      4\u001b[0m \u001b[0mprint\u001b[0m\u001b[1;33m(\u001b[0m\u001b[0ma\u001b[0m\u001b[1;33m.\u001b[0m\u001b[0mfind\u001b[0m\u001b[1;33m(\u001b[0m\u001b[1;34m'too'\u001b[0m\u001b[1;33m)\u001b[0m\u001b[1;33m)\u001b[0m\u001b[1;33m\u001b[0m\u001b[1;33m\u001b[0m\u001b[0m\n\u001b[1;32m----> 5\u001b[1;33m \u001b[0mprint\u001b[0m\u001b[1;33m(\u001b[0m\u001b[0ma\u001b[0m\u001b[1;33m.\u001b[0m\u001b[0mindex\u001b[0m\u001b[1;33m(\u001b[0m\u001b[1;34m'kind'\u001b[0m\u001b[1;33m)\u001b[0m\u001b[1;33m)\u001b[0m\u001b[1;33m\u001b[0m\u001b[1;33m\u001b[0m\u001b[0m\n\u001b[0m",
      "\u001b[1;31mValueError\u001b[0m: substring not found"
     ]
    }
   ],
   "source": [
    "a= 'Life is too short'\n",
    "print(a)\n",
    "# 문자열.index('검색어') : 검색어를 찾은 위치(인덱스값)\n",
    "print(a.index('too'))\n",
    "print(a.find('too'))\n",
    "print(a.index('kind'))  # 검색어를 못찾으면 에러 발생"
   ]
  },
  {
   "cell_type": "code",
   "execution_count": 99,
   "metadata": {},
   "outputs": [
    {
     "name": "stdout",
     "output_type": "stream",
     "text": [
      "a,b,c,d\n",
      "a-b-c-d\n"
     ]
    }
   ],
   "source": [
    "# 문자열 삽입\n",
    "a= ','\n",
    "b= '-'\n",
    "result1= a.join('abcd')\n",
    "result2= b.join('abcd')\n",
    "print(result1)\n",
    "print(result2)"
   ]
  },
  {
   "cell_type": "code",
   "execution_count": 98,
   "metadata": {},
   "outputs": [
    {
     "name": "stdout",
     "output_type": "stream",
     "text": [
      "HI\n",
      "hi\n"
     ]
    }
   ],
   "source": [
    "a= 'hi'\n",
    "result= a.upper()  # 소문자를 대문자로\n",
    "print(result)\n",
    "\n",
    "a= 'HI'\n",
    "result= a.lower() # 대문자를 소문자로\n",
    "print(result)"
   ]
  },
  {
   "cell_type": "code",
   "execution_count": 104,
   "metadata": {},
   "outputs": [
    {
     "name": "stdout",
     "output_type": "stream",
     "text": [
      "hi\n",
      "hi\n",
      "hi\n"
     ]
    }
   ],
   "source": [
    "# 왼쪽 공백 지우기 (lstrip : Left Strip)\n",
    "a= '  hi'\n",
    "result= a.lstrip()\n",
    "print(result)\n",
    "\n",
    "# 오른쪽 공백 지우기 (rstrip: Right Strip)\n",
    "a= 'hi  '\n",
    "result= a.rstrip()\n",
    "print(result)\n",
    "\n",
    "# 양쪽 공백 지우기 (strip)\n",
    "a= ' hi '\n",
    "result= a.strip()\n",
    "print(result)"
   ]
  },
  {
   "cell_type": "code",
   "execution_count": 109,
   "metadata": {},
   "outputs": [
    {
     "name": "stdout",
     "output_type": "stream",
     "text": [
      "['신입', '개발자']\n",
      "<class 'list'>\n",
      "['a', 'b', 'c', 'd']\n",
      "['a', 'b', 'c', 'd']\n",
      "<class 'list'>\n"
     ]
    }
   ],
   "source": [
    "# 문자열 바꾸기\n",
    "a= '신입 개발자'\n",
    "result= a.split()\n",
    "print(result)\n",
    "print(type(result))\n",
    "\n",
    "# 구분자를 지정할 수 있dma\n",
    "a= 'a,b,c,d'\n",
    "b= 'a-b-c-d'\n",
    "result1= a.split(',')\n",
    "result2= b.split('-')\n",
    "print(result1)\n",
    "print(result2)\n",
    "print(type(result))"
   ]
  },
  {
   "cell_type": "code",
   "execution_count": null,
   "metadata": {},
   "outputs": [],
   "source": []
  }
 ],
 "metadata": {
  "kernelspec": {
   "display_name": "Python 3",
   "language": "python",
   "name": "python3"
  },
  "language_info": {
   "codemirror_mode": {
    "name": "ipython",
    "version": 3
   },
   "file_extension": ".py",
   "mimetype": "text/x-python",
   "name": "python",
   "nbconvert_exporter": "python",
   "pygments_lexer": "ipython3",
   "version": "3.7.3"
  }
 },
 "nbformat": 4,
 "nbformat_minor": 2
}
